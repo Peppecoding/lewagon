{
  "cells": [
    {
      "cell_type": "markdown",
      "metadata": {
        "id": "view-in-github",
        "colab_type": "text"
      },
      "source": [
        "<a href=\"https://colab.research.google.com/github/Peppecoding/lewagon/blob/main/3_Shops_orders_analysis_Challenge.ipynb\" target=\"_parent\"><img src=\"https://colab.research.google.com/assets/colab-badge.svg\" alt=\"Open In Colab\"/></a>"
      ]
    },
    {
      "cell_type": "markdown",
      "metadata": {
        "id": "-JzbMZMGL2W1"
      },
      "source": [
        " ![Emil](data:image/png;base64,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)"
      ]
    },
    {
      "cell_type": "markdown",
      "metadata": {
        "id": "3Io8S5AZL2W3"
      },
      "source": [
        "# Shop orders analysis"
      ]
    },
    {
      "cell_type": "markdown",
      "metadata": {
        "id": "MjE1Uj8nGWOs"
      },
      "source": [
        "In this challenge, you will analyze data from [Sumup](https://www.sumup.com/fr-fr/) who wants to analyse its restaurant orders and categorize them.\n"
      ]
    },
    {
      "cell_type": "markdown",
      "metadata": {
        "id": "94I936yE-2xu"
      },
      "source": [
        "Upload [Tiller_order_data.csv](https://drive.google.com/file/d/1dVuD1hB3UnX5xhCHFMQ5R4iBdMdJMK4a/view?usp=sharing) in Colab and load it in a DataFrame `df_order`\n"
      ]
    },
    {
      "cell_type": "markdown",
      "metadata": {
        "id": "KyhyIi33GWOt"
      },
      "source": [
        "## Exploratory Analysis\n"
      ]
    },
    {
      "cell_type": "code",
      "execution_count": 1,
      "metadata": {
        "ExecuteTime": {
          "end_time": "2024-02-13T21:49:02.217604Z",
          "start_time": "2024-02-13T21:49:01.792421Z"
        },
        "id": "CsTHaOeGxcfW",
        "colab": {
          "base_uri": "https://localhost:8080/",
          "height": 521
        },
        "outputId": "c2118b01-04bd-4a16-873e-957d01a1e3a0"
      },
      "outputs": [
        {
          "output_type": "stream",
          "name": "stderr",
          "text": [
            "<ipython-input-1-ea5bfca9f7ff>:5: DtypeWarning: Columns (12) have mixed types. Specify dtype option on import or set low_memory=False.\n",
            "  df_order = pd.read_csv('Tiller_order_data.csv')\n"
          ]
        },
        {
          "output_type": "execute_result",
          "data": {
            "text/plain": [
              "   id_order  id_store  id_table  id_waiter  id_customer  \\\n",
              "0  55538867      8052       NaN        NaN          NaN   \n",
              "1  56035309      8052       NaN        NaN          NaN   \n",
              "2  55550051      8052       NaN        NaN          NaN   \n",
              "3  57000119      8052       NaN    16199.0          NaN   \n",
              "4  55558817      8052       NaN        NaN          NaN   \n",
              "\n",
              "                            id_external  id_device              date_opened  \\\n",
              "0  0425716B-EFF4-41CA-AEA1-839104F36833    15327.0  2019-01-12 13:02:17 UTC   \n",
              "1  75E41FE2-64FF-41D3-954C-A7DE4AA887EF    15327.0  2019-01-16 19:39:09 UTC   \n",
              "2  F6051A05-C9AC-4033-BF72-BB5149B8F439    15327.0  2019-01-12 14:18:46 UTC   \n",
              "3  B8BEEC66-1C10-48A0-B4D5-035CB5EEFE62    15327.0  2019-01-24 17:49:12 UTC   \n",
              "4  17F0533C-2FF1-4FC5-A50D-12704C7B7A4B    15327.0  2019-01-12 15:25:06 UTC   \n",
              "\n",
              "               date_closed                    dim_name dim_status  dim_type  \\\n",
              "0  2019-01-12 19:58:38 UTC                     vincent     CLOSED         1   \n",
              "1  2019-01-16 22:10:50 UTC  frere et soeur avec pierre     CLOSED         1   \n",
              "2  2019-01-12 19:50:32 UTC                      rachel     CLOSED         1   \n",
              "3  2019-01-24 21:58:59 UTC                  Groupe PEL     CLOSED         1   \n",
              "4  2019-01-12 19:21:03 UTC                remi et date     CLOSED         1   \n",
              "\n",
              "  dim_comment    dim_source  m_nb_customer  m_cached_payed  m_cached_price  \n",
              "0         NaN   Tiller iPAD              1            45.5            45.5  \n",
              "1         NaN   Tiller iPAD              2            49.8            49.8  \n",
              "2         NaN   Tiller iPAD              1            27.4            27.4  \n",
              "3         NaN  tiller-order              3            60.0            60.0  \n",
              "4         NaN   Tiller iPAD              2            39.9            39.9  "
            ],
            "text/html": [
              "\n",
              "  <div id=\"df-b2d5f359-a458-48bb-bc31-b10d1d76a8e8\" class=\"colab-df-container\">\n",
              "    <div>\n",
              "<style scoped>\n",
              "    .dataframe tbody tr th:only-of-type {\n",
              "        vertical-align: middle;\n",
              "    }\n",
              "\n",
              "    .dataframe tbody tr th {\n",
              "        vertical-align: top;\n",
              "    }\n",
              "\n",
              "    .dataframe thead th {\n",
              "        text-align: right;\n",
              "    }\n",
              "</style>\n",
              "<table border=\"1\" class=\"dataframe\">\n",
              "  <thead>\n",
              "    <tr style=\"text-align: right;\">\n",
              "      <th></th>\n",
              "      <th>id_order</th>\n",
              "      <th>id_store</th>\n",
              "      <th>id_table</th>\n",
              "      <th>id_waiter</th>\n",
              "      <th>id_customer</th>\n",
              "      <th>id_external</th>\n",
              "      <th>id_device</th>\n",
              "      <th>date_opened</th>\n",
              "      <th>date_closed</th>\n",
              "      <th>dim_name</th>\n",
              "      <th>dim_status</th>\n",
              "      <th>dim_type</th>\n",
              "      <th>dim_comment</th>\n",
              "      <th>dim_source</th>\n",
              "      <th>m_nb_customer</th>\n",
              "      <th>m_cached_payed</th>\n",
              "      <th>m_cached_price</th>\n",
              "    </tr>\n",
              "  </thead>\n",
              "  <tbody>\n",
              "    <tr>\n",
              "      <th>0</th>\n",
              "      <td>55538867</td>\n",
              "      <td>8052</td>\n",
              "      <td>NaN</td>\n",
              "      <td>NaN</td>\n",
              "      <td>NaN</td>\n",
              "      <td>0425716B-EFF4-41CA-AEA1-839104F36833</td>\n",
              "      <td>15327.0</td>\n",
              "      <td>2019-01-12 13:02:17 UTC</td>\n",
              "      <td>2019-01-12 19:58:38 UTC</td>\n",
              "      <td>vincent</td>\n",
              "      <td>CLOSED</td>\n",
              "      <td>1</td>\n",
              "      <td>NaN</td>\n",
              "      <td>Tiller iPAD</td>\n",
              "      <td>1</td>\n",
              "      <td>45.5</td>\n",
              "      <td>45.5</td>\n",
              "    </tr>\n",
              "    <tr>\n",
              "      <th>1</th>\n",
              "      <td>56035309</td>\n",
              "      <td>8052</td>\n",
              "      <td>NaN</td>\n",
              "      <td>NaN</td>\n",
              "      <td>NaN</td>\n",
              "      <td>75E41FE2-64FF-41D3-954C-A7DE4AA887EF</td>\n",
              "      <td>15327.0</td>\n",
              "      <td>2019-01-16 19:39:09 UTC</td>\n",
              "      <td>2019-01-16 22:10:50 UTC</td>\n",
              "      <td>frere et soeur avec pierre</td>\n",
              "      <td>CLOSED</td>\n",
              "      <td>1</td>\n",
              "      <td>NaN</td>\n",
              "      <td>Tiller iPAD</td>\n",
              "      <td>2</td>\n",
              "      <td>49.8</td>\n",
              "      <td>49.8</td>\n",
              "    </tr>\n",
              "    <tr>\n",
              "      <th>2</th>\n",
              "      <td>55550051</td>\n",
              "      <td>8052</td>\n",
              "      <td>NaN</td>\n",
              "      <td>NaN</td>\n",
              "      <td>NaN</td>\n",
              "      <td>F6051A05-C9AC-4033-BF72-BB5149B8F439</td>\n",
              "      <td>15327.0</td>\n",
              "      <td>2019-01-12 14:18:46 UTC</td>\n",
              "      <td>2019-01-12 19:50:32 UTC</td>\n",
              "      <td>rachel</td>\n",
              "      <td>CLOSED</td>\n",
              "      <td>1</td>\n",
              "      <td>NaN</td>\n",
              "      <td>Tiller iPAD</td>\n",
              "      <td>1</td>\n",
              "      <td>27.4</td>\n",
              "      <td>27.4</td>\n",
              "    </tr>\n",
              "    <tr>\n",
              "      <th>3</th>\n",
              "      <td>57000119</td>\n",
              "      <td>8052</td>\n",
              "      <td>NaN</td>\n",
              "      <td>16199.0</td>\n",
              "      <td>NaN</td>\n",
              "      <td>B8BEEC66-1C10-48A0-B4D5-035CB5EEFE62</td>\n",
              "      <td>15327.0</td>\n",
              "      <td>2019-01-24 17:49:12 UTC</td>\n",
              "      <td>2019-01-24 21:58:59 UTC</td>\n",
              "      <td>Groupe PEL</td>\n",
              "      <td>CLOSED</td>\n",
              "      <td>1</td>\n",
              "      <td>NaN</td>\n",
              "      <td>tiller-order</td>\n",
              "      <td>3</td>\n",
              "      <td>60.0</td>\n",
              "      <td>60.0</td>\n",
              "    </tr>\n",
              "    <tr>\n",
              "      <th>4</th>\n",
              "      <td>55558817</td>\n",
              "      <td>8052</td>\n",
              "      <td>NaN</td>\n",
              "      <td>NaN</td>\n",
              "      <td>NaN</td>\n",
              "      <td>17F0533C-2FF1-4FC5-A50D-12704C7B7A4B</td>\n",
              "      <td>15327.0</td>\n",
              "      <td>2019-01-12 15:25:06 UTC</td>\n",
              "      <td>2019-01-12 19:21:03 UTC</td>\n",
              "      <td>remi et date</td>\n",
              "      <td>CLOSED</td>\n",
              "      <td>1</td>\n",
              "      <td>NaN</td>\n",
              "      <td>Tiller iPAD</td>\n",
              "      <td>2</td>\n",
              "      <td>39.9</td>\n",
              "      <td>39.9</td>\n",
              "    </tr>\n",
              "  </tbody>\n",
              "</table>\n",
              "</div>\n",
              "    <div class=\"colab-df-buttons\">\n",
              "\n",
              "  <div class=\"colab-df-container\">\n",
              "    <button class=\"colab-df-convert\" onclick=\"convertToInteractive('df-b2d5f359-a458-48bb-bc31-b10d1d76a8e8')\"\n",
              "            title=\"Convert this dataframe to an interactive table.\"\n",
              "            style=\"display:none;\">\n",
              "\n",
              "  <svg xmlns=\"http://www.w3.org/2000/svg\" height=\"24px\" viewBox=\"0 -960 960 960\">\n",
              "    <path d=\"M120-120v-720h720v720H120Zm60-500h600v-160H180v160Zm220 220h160v-160H400v160Zm0 220h160v-160H400v160ZM180-400h160v-160H180v160Zm440 0h160v-160H620v160ZM180-180h160v-160H180v160Zm440 0h160v-160H620v160Z\"/>\n",
              "  </svg>\n",
              "    </button>\n",
              "\n",
              "  <style>\n",
              "    .colab-df-container {\n",
              "      display:flex;\n",
              "      gap: 12px;\n",
              "    }\n",
              "\n",
              "    .colab-df-convert {\n",
              "      background-color: #E8F0FE;\n",
              "      border: none;\n",
              "      border-radius: 50%;\n",
              "      cursor: pointer;\n",
              "      display: none;\n",
              "      fill: #1967D2;\n",
              "      height: 32px;\n",
              "      padding: 0 0 0 0;\n",
              "      width: 32px;\n",
              "    }\n",
              "\n",
              "    .colab-df-convert:hover {\n",
              "      background-color: #E2EBFA;\n",
              "      box-shadow: 0px 1px 2px rgba(60, 64, 67, 0.3), 0px 1px 3px 1px rgba(60, 64, 67, 0.15);\n",
              "      fill: #174EA6;\n",
              "    }\n",
              "\n",
              "    .colab-df-buttons div {\n",
              "      margin-bottom: 4px;\n",
              "    }\n",
              "\n",
              "    [theme=dark] .colab-df-convert {\n",
              "      background-color: #3B4455;\n",
              "      fill: #D2E3FC;\n",
              "    }\n",
              "\n",
              "    [theme=dark] .colab-df-convert:hover {\n",
              "      background-color: #434B5C;\n",
              "      box-shadow: 0px 1px 3px 1px rgba(0, 0, 0, 0.15);\n",
              "      filter: drop-shadow(0px 1px 2px rgba(0, 0, 0, 0.3));\n",
              "      fill: #FFFFFF;\n",
              "    }\n",
              "  </style>\n",
              "\n",
              "    <script>\n",
              "      const buttonEl =\n",
              "        document.querySelector('#df-b2d5f359-a458-48bb-bc31-b10d1d76a8e8 button.colab-df-convert');\n",
              "      buttonEl.style.display =\n",
              "        google.colab.kernel.accessAllowed ? 'block' : 'none';\n",
              "\n",
              "      async function convertToInteractive(key) {\n",
              "        const element = document.querySelector('#df-b2d5f359-a458-48bb-bc31-b10d1d76a8e8');\n",
              "        const dataTable =\n",
              "          await google.colab.kernel.invokeFunction('convertToInteractive',\n",
              "                                                    [key], {});\n",
              "        if (!dataTable) return;\n",
              "\n",
              "        const docLinkHtml = 'Like what you see? Visit the ' +\n",
              "          '<a target=\"_blank\" href=https://colab.research.google.com/notebooks/data_table.ipynb>data table notebook</a>'\n",
              "          + ' to learn more about interactive tables.';\n",
              "        element.innerHTML = '';\n",
              "        dataTable['output_type'] = 'display_data';\n",
              "        await google.colab.output.renderOutput(dataTable, element);\n",
              "        const docLink = document.createElement('div');\n",
              "        docLink.innerHTML = docLinkHtml;\n",
              "        element.appendChild(docLink);\n",
              "      }\n",
              "    </script>\n",
              "  </div>\n",
              "\n",
              "\n",
              "    <div id=\"df-594aaf07-4964-4744-930a-e3d40cc8bdf6\">\n",
              "      <button class=\"colab-df-quickchart\" onclick=\"quickchart('df-594aaf07-4964-4744-930a-e3d40cc8bdf6')\"\n",
              "                title=\"Suggest charts\"\n",
              "                style=\"display:none;\">\n",
              "\n",
              "<svg xmlns=\"http://www.w3.org/2000/svg\" height=\"24px\"viewBox=\"0 0 24 24\"\n",
              "     width=\"24px\">\n",
              "    <g>\n",
              "        <path d=\"M19 3H5c-1.1 0-2 .9-2 2v14c0 1.1.9 2 2 2h14c1.1 0 2-.9 2-2V5c0-1.1-.9-2-2-2zM9 17H7v-7h2v7zm4 0h-2V7h2v10zm4 0h-2v-4h2v4z\"/>\n",
              "    </g>\n",
              "</svg>\n",
              "      </button>\n",
              "\n",
              "<style>\n",
              "  .colab-df-quickchart {\n",
              "      --bg-color: #E8F0FE;\n",
              "      --fill-color: #1967D2;\n",
              "      --hover-bg-color: #E2EBFA;\n",
              "      --hover-fill-color: #174EA6;\n",
              "      --disabled-fill-color: #AAA;\n",
              "      --disabled-bg-color: #DDD;\n",
              "  }\n",
              "\n",
              "  [theme=dark] .colab-df-quickchart {\n",
              "      --bg-color: #3B4455;\n",
              "      --fill-color: #D2E3FC;\n",
              "      --hover-bg-color: #434B5C;\n",
              "      --hover-fill-color: #FFFFFF;\n",
              "      --disabled-bg-color: #3B4455;\n",
              "      --disabled-fill-color: #666;\n",
              "  }\n",
              "\n",
              "  .colab-df-quickchart {\n",
              "    background-color: var(--bg-color);\n",
              "    border: none;\n",
              "    border-radius: 50%;\n",
              "    cursor: pointer;\n",
              "    display: none;\n",
              "    fill: var(--fill-color);\n",
              "    height: 32px;\n",
              "    padding: 0;\n",
              "    width: 32px;\n",
              "  }\n",
              "\n",
              "  .colab-df-quickchart:hover {\n",
              "    background-color: var(--hover-bg-color);\n",
              "    box-shadow: 0 1px 2px rgba(60, 64, 67, 0.3), 0 1px 3px 1px rgba(60, 64, 67, 0.15);\n",
              "    fill: var(--button-hover-fill-color);\n",
              "  }\n",
              "\n",
              "  .colab-df-quickchart-complete:disabled,\n",
              "  .colab-df-quickchart-complete:disabled:hover {\n",
              "    background-color: var(--disabled-bg-color);\n",
              "    fill: var(--disabled-fill-color);\n",
              "    box-shadow: none;\n",
              "  }\n",
              "\n",
              "  .colab-df-spinner {\n",
              "    border: 2px solid var(--fill-color);\n",
              "    border-color: transparent;\n",
              "    border-bottom-color: var(--fill-color);\n",
              "    animation:\n",
              "      spin 1s steps(1) infinite;\n",
              "  }\n",
              "\n",
              "  @keyframes spin {\n",
              "    0% {\n",
              "      border-color: transparent;\n",
              "      border-bottom-color: var(--fill-color);\n",
              "      border-left-color: var(--fill-color);\n",
              "    }\n",
              "    20% {\n",
              "      border-color: transparent;\n",
              "      border-left-color: var(--fill-color);\n",
              "      border-top-color: var(--fill-color);\n",
              "    }\n",
              "    30% {\n",
              "      border-color: transparent;\n",
              "      border-left-color: var(--fill-color);\n",
              "      border-top-color: var(--fill-color);\n",
              "      border-right-color: var(--fill-color);\n",
              "    }\n",
              "    40% {\n",
              "      border-color: transparent;\n",
              "      border-right-color: var(--fill-color);\n",
              "      border-top-color: var(--fill-color);\n",
              "    }\n",
              "    60% {\n",
              "      border-color: transparent;\n",
              "      border-right-color: var(--fill-color);\n",
              "    }\n",
              "    80% {\n",
              "      border-color: transparent;\n",
              "      border-right-color: var(--fill-color);\n",
              "      border-bottom-color: var(--fill-color);\n",
              "    }\n",
              "    90% {\n",
              "      border-color: transparent;\n",
              "      border-bottom-color: var(--fill-color);\n",
              "    }\n",
              "  }\n",
              "</style>\n",
              "\n",
              "      <script>\n",
              "        async function quickchart(key) {\n",
              "          const quickchartButtonEl =\n",
              "            document.querySelector('#' + key + ' button');\n",
              "          quickchartButtonEl.disabled = true;  // To prevent multiple clicks.\n",
              "          quickchartButtonEl.classList.add('colab-df-spinner');\n",
              "          try {\n",
              "            const charts = await google.colab.kernel.invokeFunction(\n",
              "                'suggestCharts', [key], {});\n",
              "          } catch (error) {\n",
              "            console.error('Error during call to suggestCharts:', error);\n",
              "          }\n",
              "          quickchartButtonEl.classList.remove('colab-df-spinner');\n",
              "          quickchartButtonEl.classList.add('colab-df-quickchart-complete');\n",
              "        }\n",
              "        (() => {\n",
              "          let quickchartButtonEl =\n",
              "            document.querySelector('#df-594aaf07-4964-4744-930a-e3d40cc8bdf6 button');\n",
              "          quickchartButtonEl.style.display =\n",
              "            google.colab.kernel.accessAllowed ? 'block' : 'none';\n",
              "        })();\n",
              "      </script>\n",
              "    </div>\n",
              "\n",
              "    </div>\n",
              "  </div>\n"
            ],
            "application/vnd.google.colaboratory.intrinsic+json": {
              "type": "dataframe",
              "variable_name": "df_order"
            }
          },
          "metadata": {},
          "execution_count": 1
        }
      ],
      "source": [
        "#your code here\n",
        "import pandas as pd\n",
        "\n",
        "# Cargar archivo CSV\n",
        "df_order = pd.read_csv('Tiller_order_data.csv')\n",
        "\n",
        "# Mostrar las primeras filas\n",
        "df_order.head()\n"
      ]
    },
    {
      "cell_type": "markdown",
      "metadata": {
        "id": "_Tz9C_Fo6W57"
      },
      "source": [
        "What does a row represent? What information can you find?"
      ]
    },
    {
      "cell_type": "markdown",
      "metadata": {
        "id": "RIwCl3uU-tco"
      },
      "source": [
        "> **Your Answer Here (Double click)**\n",
        "Each row represents an individual product item that was part of a restaurant order. It contains information such as the product name, product category, quantity, unit price, total price, date and time of the order, and the order status (e.g. completed, refunded, cancelled).\n"
      ]
    },
    {
      "cell_type": "markdown",
      "metadata": {
        "id": "7PFtvyCYuy0P"
      },
      "source": [
        "What are the different statuses of an order? How many orders are there per status?   "
      ]
    },
    {
      "cell_type": "code",
      "execution_count": 4,
      "metadata": {
        "ExecuteTime": {
          "end_time": "2024-02-13T21:49:02.227584Z",
          "start_time": "2024-02-13T21:49:02.218660Z"
        },
        "id": "oaUCabqUuyVS",
        "colab": {
          "base_uri": "https://localhost:8080/"
        },
        "outputId": "d96e45c2-219a-4e19-97d9-ce315f2d79b7"
      },
      "outputs": [
        {
          "output_type": "execute_result",
          "data": {
            "text/plain": [
              "Index(['id_order', 'id_store', 'id_table', 'id_waiter', 'id_customer',\n",
              "       'id_external', 'id_device', 'date_opened', 'date_closed', 'dim_name',\n",
              "       'dim_status', 'dim_type', 'dim_comment', 'dim_source', 'm_nb_customer',\n",
              "       'm_cached_payed', 'm_cached_price'],\n",
              "      dtype='object')"
            ]
          },
          "metadata": {},
          "execution_count": 4
        }
      ],
      "source": [
        "#your code here\n",
        "df_order.columns\n",
        "\n"
      ]
    },
    {
      "cell_type": "markdown",
      "metadata": {
        "id": "DspKznXmuDuZ"
      },
      "source": [
        "What is the proportion of orders ?  \\\n",
        "You can use the `.value_counts()` function, with the optional argument `normalize=True`"
      ]
    },
    {
      "cell_type": "code",
      "execution_count": 5,
      "metadata": {
        "ExecuteTime": {
          "end_time": "2024-02-13T21:49:02.235699Z",
          "start_time": "2024-02-13T21:49:02.229549Z"
        },
        "id": "nKRY5m8kuEFS",
        "colab": {
          "base_uri": "https://localhost:8080/",
          "height": 178
        },
        "outputId": "eb933f1a-36f6-48fb-89cc-1c0b0433dd0c"
      },
      "outputs": [
        {
          "output_type": "execute_result",
          "data": {
            "text/plain": [
              "dim_status\n",
              "CLOSED         116939\n",
              "IN_PROGRESS       365\n",
              "Name: count, dtype: int64"
            ],
            "text/html": [
              "<div>\n",
              "<style scoped>\n",
              "    .dataframe tbody tr th:only-of-type {\n",
              "        vertical-align: middle;\n",
              "    }\n",
              "\n",
              "    .dataframe tbody tr th {\n",
              "        vertical-align: top;\n",
              "    }\n",
              "\n",
              "    .dataframe thead th {\n",
              "        text-align: right;\n",
              "    }\n",
              "</style>\n",
              "<table border=\"1\" class=\"dataframe\">\n",
              "  <thead>\n",
              "    <tr style=\"text-align: right;\">\n",
              "      <th></th>\n",
              "      <th>count</th>\n",
              "    </tr>\n",
              "    <tr>\n",
              "      <th>dim_status</th>\n",
              "      <th></th>\n",
              "    </tr>\n",
              "  </thead>\n",
              "  <tbody>\n",
              "    <tr>\n",
              "      <th>CLOSED</th>\n",
              "      <td>116939</td>\n",
              "    </tr>\n",
              "    <tr>\n",
              "      <th>IN_PROGRESS</th>\n",
              "      <td>365</td>\n",
              "    </tr>\n",
              "  </tbody>\n",
              "</table>\n",
              "</div><br><label><b>dtype:</b> int64</label>"
            ]
          },
          "metadata": {},
          "execution_count": 5
        }
      ],
      "source": [
        "#your code here\n",
        "df_order['dim_status'].value_counts()\n"
      ]
    },
    {
      "cell_type": "markdown",
      "metadata": {
        "id": "DRcKAeUstPq9"
      },
      "source": [
        "How many restaurants are there? What are their ids?"
      ]
    },
    {
      "cell_type": "code",
      "execution_count": 7,
      "metadata": {
        "ExecuteTime": {
          "end_time": "2024-02-13T21:49:02.239674Z",
          "start_time": "2024-02-13T21:49:02.236789Z"
        },
        "id": "L_An80n8s_T9",
        "colab": {
          "base_uri": "https://localhost:8080/"
        },
        "outputId": "7908d661-d081-463d-8371-bc963f0ef258"
      },
      "outputs": [
        {
          "output_type": "execute_result",
          "data": {
            "text/plain": [
              "10"
            ]
          },
          "metadata": {},
          "execution_count": 7
        }
      ],
      "source": [
        "#your code here\n",
        "\n",
        "# Ver cuántos restaurantes distintos hay\n",
        "df_order['id_store'].nunique()"
      ]
    },
    {
      "cell_type": "markdown",
      "metadata": {
        "id": "-se8IRlpGWOw"
      },
      "source": [
        "## Aggregations"
      ]
    },
    {
      "cell_type": "markdown",
      "metadata": {
        "id": "z1AA_gEsGblP"
      },
      "source": [
        "Compute the total turnover per restaurant. Which restaurant has the highest turnover?\n"
      ]
    },
    {
      "cell_type": "code",
      "execution_count": 8,
      "metadata": {
        "ExecuteTime": {
          "end_time": "2024-02-13T21:49:02.245317Z",
          "start_time": "2024-02-13T21:49:02.240574Z"
        },
        "id": "YmsHXRrJHAJx",
        "colab": {
          "base_uri": "https://localhost:8080/"
        },
        "outputId": "7cd8359d-395a-4840-fa8b-4bb95ab0eb34"
      },
      "outputs": [
        {
          "output_type": "execute_result",
          "data": {
            "text/plain": [
              "array([8052, 8347, 8283, 9084, 4337,  360, 1796, 7965, 6293, 4542])"
            ]
          },
          "metadata": {},
          "execution_count": 8
        }
      ],
      "source": [
        "#your code here\n",
        "# Ver los IDs únicos de los restaurantes\n",
        "df_order['id_store'].unique()\n"
      ]
    },
    {
      "cell_type": "markdown",
      "metadata": {
        "id": "xqdF8tIlGWOw"
      },
      "source": [
        "> **Your Answer Here (Double click)**"
      ]
    },
    {
      "cell_type": "markdown",
      "metadata": {
        "id": "sLA7m7Rft12b"
      },
      "source": [
        "Count the number of orders per restaurant. Which restaurant has the most orders? Is it the same as the one with the highest turnover?\n"
      ]
    },
    {
      "cell_type": "code",
      "execution_count": 9,
      "metadata": {
        "ExecuteTime": {
          "end_time": "2024-02-13T21:49:02.250423Z",
          "start_time": "2024-02-13T21:49:02.246454Z"
        },
        "id": "ryZBJEV5E6jO",
        "colab": {
          "base_uri": "https://localhost:8080/",
          "height": 429
        },
        "outputId": "35c7acf4-62f1-48ae-e371-7f690f5926cc"
      },
      "outputs": [
        {
          "output_type": "execute_result",
          "data": {
            "text/plain": [
              "id_store\n",
              "7965    1138585.95\n",
              "4337     865847.30\n",
              "9084     479040.75\n",
              "360      386934.14\n",
              "8283     369822.82\n",
              "6293     359718.00\n",
              "8052     327758.85\n",
              "1796     321099.69\n",
              "4542     243789.69\n",
              "8347         23.00\n",
              "Name: m_cached_price, dtype: float64"
            ],
            "text/html": [
              "<div>\n",
              "<style scoped>\n",
              "    .dataframe tbody tr th:only-of-type {\n",
              "        vertical-align: middle;\n",
              "    }\n",
              "\n",
              "    .dataframe tbody tr th {\n",
              "        vertical-align: top;\n",
              "    }\n",
              "\n",
              "    .dataframe thead th {\n",
              "        text-align: right;\n",
              "    }\n",
              "</style>\n",
              "<table border=\"1\" class=\"dataframe\">\n",
              "  <thead>\n",
              "    <tr style=\"text-align: right;\">\n",
              "      <th></th>\n",
              "      <th>m_cached_price</th>\n",
              "    </tr>\n",
              "    <tr>\n",
              "      <th>id_store</th>\n",
              "      <th></th>\n",
              "    </tr>\n",
              "  </thead>\n",
              "  <tbody>\n",
              "    <tr>\n",
              "      <th>7965</th>\n",
              "      <td>1138585.95</td>\n",
              "    </tr>\n",
              "    <tr>\n",
              "      <th>4337</th>\n",
              "      <td>865847.30</td>\n",
              "    </tr>\n",
              "    <tr>\n",
              "      <th>9084</th>\n",
              "      <td>479040.75</td>\n",
              "    </tr>\n",
              "    <tr>\n",
              "      <th>360</th>\n",
              "      <td>386934.14</td>\n",
              "    </tr>\n",
              "    <tr>\n",
              "      <th>8283</th>\n",
              "      <td>369822.82</td>\n",
              "    </tr>\n",
              "    <tr>\n",
              "      <th>6293</th>\n",
              "      <td>359718.00</td>\n",
              "    </tr>\n",
              "    <tr>\n",
              "      <th>8052</th>\n",
              "      <td>327758.85</td>\n",
              "    </tr>\n",
              "    <tr>\n",
              "      <th>1796</th>\n",
              "      <td>321099.69</td>\n",
              "    </tr>\n",
              "    <tr>\n",
              "      <th>4542</th>\n",
              "      <td>243789.69</td>\n",
              "    </tr>\n",
              "    <tr>\n",
              "      <th>8347</th>\n",
              "      <td>23.00</td>\n",
              "    </tr>\n",
              "  </tbody>\n",
              "</table>\n",
              "</div><br><label><b>dtype:</b> float64</label>"
            ]
          },
          "metadata": {},
          "execution_count": 9
        }
      ],
      "source": [
        "#your code here\n",
        "# Turnover total por restaurante\n",
        "df_order.groupby('id_store')['m_cached_price'].sum().sort_values(ascending=False)\n"
      ]
    },
    {
      "cell_type": "markdown",
      "metadata": {
        "id": "MciEHryJHgZT"
      },
      "source": [
        "Calculate the average price of an order for each restaurant. Do you think you are dealing with similar categories of restaurants ?\n"
      ]
    },
    {
      "cell_type": "code",
      "execution_count": 10,
      "metadata": {
        "ExecuteTime": {
          "end_time": "2024-02-13T21:49:02.266821Z",
          "start_time": "2024-02-13T21:49:02.251437Z"
        },
        "id": "zxTgCgoOGWOw",
        "colab": {
          "base_uri": "https://localhost:8080/",
          "height": 429
        },
        "outputId": "e4ce6846-2a20-4cd9-e19f-9aa7f508d047"
      },
      "outputs": [
        {
          "output_type": "execute_result",
          "data": {
            "text/plain": [
              "id_store\n",
              "1796    27349\n",
              "4337    20003\n",
              "4542    17641\n",
              "6293    16103\n",
              "8283    10023\n",
              "7965     9091\n",
              "9084     7804\n",
              "8052     4906\n",
              "360      4383\n",
              "8347        1\n",
              "Name: count, dtype: int64"
            ],
            "text/html": [
              "<div>\n",
              "<style scoped>\n",
              "    .dataframe tbody tr th:only-of-type {\n",
              "        vertical-align: middle;\n",
              "    }\n",
              "\n",
              "    .dataframe tbody tr th {\n",
              "        vertical-align: top;\n",
              "    }\n",
              "\n",
              "    .dataframe thead th {\n",
              "        text-align: right;\n",
              "    }\n",
              "</style>\n",
              "<table border=\"1\" class=\"dataframe\">\n",
              "  <thead>\n",
              "    <tr style=\"text-align: right;\">\n",
              "      <th></th>\n",
              "      <th>count</th>\n",
              "    </tr>\n",
              "    <tr>\n",
              "      <th>id_store</th>\n",
              "      <th></th>\n",
              "    </tr>\n",
              "  </thead>\n",
              "  <tbody>\n",
              "    <tr>\n",
              "      <th>1796</th>\n",
              "      <td>27349</td>\n",
              "    </tr>\n",
              "    <tr>\n",
              "      <th>4337</th>\n",
              "      <td>20003</td>\n",
              "    </tr>\n",
              "    <tr>\n",
              "      <th>4542</th>\n",
              "      <td>17641</td>\n",
              "    </tr>\n",
              "    <tr>\n",
              "      <th>6293</th>\n",
              "      <td>16103</td>\n",
              "    </tr>\n",
              "    <tr>\n",
              "      <th>8283</th>\n",
              "      <td>10023</td>\n",
              "    </tr>\n",
              "    <tr>\n",
              "      <th>7965</th>\n",
              "      <td>9091</td>\n",
              "    </tr>\n",
              "    <tr>\n",
              "      <th>9084</th>\n",
              "      <td>7804</td>\n",
              "    </tr>\n",
              "    <tr>\n",
              "      <th>8052</th>\n",
              "      <td>4906</td>\n",
              "    </tr>\n",
              "    <tr>\n",
              "      <th>360</th>\n",
              "      <td>4383</td>\n",
              "    </tr>\n",
              "    <tr>\n",
              "      <th>8347</th>\n",
              "      <td>1</td>\n",
              "    </tr>\n",
              "  </tbody>\n",
              "</table>\n",
              "</div><br><label><b>dtype:</b> int64</label>"
            ]
          },
          "metadata": {},
          "execution_count": 10
        }
      ],
      "source": [
        "#your code here\n",
        "# Cantidad de pedidos por restaurante\n",
        "df_order['id_store'].value_counts()\n"
      ]
    },
    {
      "cell_type": "markdown",
      "metadata": {
        "id": "WNFnJ9eFGWOw"
      },
      "source": [
        "## Column transformations\n"
      ]
    },
    {
      "cell_type": "markdown",
      "metadata": {
        "id": "AO8vSsMQLFvL"
      },
      "source": [
        "The problem is that an order may be placed for several people. Instead, we want to know the average price spent by a single person in the restaurant.\n",
        "\n",
        "Add a column to `df_order`,  representing the price per customer for each order.\n"
      ]
    },
    {
      "cell_type": "code",
      "execution_count": 11,
      "metadata": {
        "ExecuteTime": {
          "end_time": "2024-02-13T21:49:02.281101Z",
          "start_time": "2024-02-13T21:49:02.268665Z"
        },
        "id": "uuafguQgLBsb",
        "colab": {
          "base_uri": "https://localhost:8080/",
          "height": 429
        },
        "outputId": "2b679779-5cf7-4cfd-f75c-e5be44575dca"
      },
      "outputs": [
        {
          "output_type": "execute_result",
          "data": {
            "text/plain": [
              "id_store\n",
              "1796    27349\n",
              "4337    20003\n",
              "4542    17641\n",
              "6293    16103\n",
              "8283    10023\n",
              "7965     9091\n",
              "9084     7804\n",
              "8052     4906\n",
              "360      4383\n",
              "8347        1\n",
              "Name: id_order, dtype: int64"
            ],
            "text/html": [
              "<div>\n",
              "<style scoped>\n",
              "    .dataframe tbody tr th:only-of-type {\n",
              "        vertical-align: middle;\n",
              "    }\n",
              "\n",
              "    .dataframe tbody tr th {\n",
              "        vertical-align: top;\n",
              "    }\n",
              "\n",
              "    .dataframe thead th {\n",
              "        text-align: right;\n",
              "    }\n",
              "</style>\n",
              "<table border=\"1\" class=\"dataframe\">\n",
              "  <thead>\n",
              "    <tr style=\"text-align: right;\">\n",
              "      <th></th>\n",
              "      <th>id_order</th>\n",
              "    </tr>\n",
              "    <tr>\n",
              "      <th>id_store</th>\n",
              "      <th></th>\n",
              "    </tr>\n",
              "  </thead>\n",
              "  <tbody>\n",
              "    <tr>\n",
              "      <th>1796</th>\n",
              "      <td>27349</td>\n",
              "    </tr>\n",
              "    <tr>\n",
              "      <th>4337</th>\n",
              "      <td>20003</td>\n",
              "    </tr>\n",
              "    <tr>\n",
              "      <th>4542</th>\n",
              "      <td>17641</td>\n",
              "    </tr>\n",
              "    <tr>\n",
              "      <th>6293</th>\n",
              "      <td>16103</td>\n",
              "    </tr>\n",
              "    <tr>\n",
              "      <th>8283</th>\n",
              "      <td>10023</td>\n",
              "    </tr>\n",
              "    <tr>\n",
              "      <th>7965</th>\n",
              "      <td>9091</td>\n",
              "    </tr>\n",
              "    <tr>\n",
              "      <th>9084</th>\n",
              "      <td>7804</td>\n",
              "    </tr>\n",
              "    <tr>\n",
              "      <th>8052</th>\n",
              "      <td>4906</td>\n",
              "    </tr>\n",
              "    <tr>\n",
              "      <th>360</th>\n",
              "      <td>4383</td>\n",
              "    </tr>\n",
              "    <tr>\n",
              "      <th>8347</th>\n",
              "      <td>1</td>\n",
              "    </tr>\n",
              "  </tbody>\n",
              "</table>\n",
              "</div><br><label><b>dtype:</b> int64</label>"
            ]
          },
          "metadata": {},
          "execution_count": 11
        }
      ],
      "source": [
        "#your code here\n",
        "df_order.groupby('id_store')['id_order'].count().sort_values(ascending=False)\n"
      ]
    },
    {
      "cell_type": "markdown",
      "metadata": {
        "id": "qelSfFgsNBmB"
      },
      "source": [
        "Using the previous column, calculate the average price spent by each person in each of the restaurants."
      ]
    },
    {
      "cell_type": "code",
      "execution_count": 12,
      "metadata": {
        "ExecuteTime": {
          "end_time": "2024-02-13T21:49:02.288889Z",
          "start_time": "2024-02-13T21:49:02.284153Z"
        },
        "id": "FDmNUDEANfKr",
        "colab": {
          "base_uri": "https://localhost:8080/",
          "height": 429
        },
        "outputId": "fa9ba8ff-5c21-4ec8-d338-4f9b6f4123d7"
      },
      "outputs": [
        {
          "output_type": "execute_result",
          "data": {
            "text/plain": [
              "id_store\n",
              "1796    27349\n",
              "4337    20003\n",
              "4542    17641\n",
              "6293    16103\n",
              "8283    10023\n",
              "7965     9091\n",
              "9084     7804\n",
              "8052     4906\n",
              "360      4383\n",
              "8347        1\n",
              "Name: id_order, dtype: int64"
            ],
            "text/html": [
              "<div>\n",
              "<style scoped>\n",
              "    .dataframe tbody tr th:only-of-type {\n",
              "        vertical-align: middle;\n",
              "    }\n",
              "\n",
              "    .dataframe tbody tr th {\n",
              "        vertical-align: top;\n",
              "    }\n",
              "\n",
              "    .dataframe thead th {\n",
              "        text-align: right;\n",
              "    }\n",
              "</style>\n",
              "<table border=\"1\" class=\"dataframe\">\n",
              "  <thead>\n",
              "    <tr style=\"text-align: right;\">\n",
              "      <th></th>\n",
              "      <th>id_order</th>\n",
              "    </tr>\n",
              "    <tr>\n",
              "      <th>id_store</th>\n",
              "      <th></th>\n",
              "    </tr>\n",
              "  </thead>\n",
              "  <tbody>\n",
              "    <tr>\n",
              "      <th>1796</th>\n",
              "      <td>27349</td>\n",
              "    </tr>\n",
              "    <tr>\n",
              "      <th>4337</th>\n",
              "      <td>20003</td>\n",
              "    </tr>\n",
              "    <tr>\n",
              "      <th>4542</th>\n",
              "      <td>17641</td>\n",
              "    </tr>\n",
              "    <tr>\n",
              "      <th>6293</th>\n",
              "      <td>16103</td>\n",
              "    </tr>\n",
              "    <tr>\n",
              "      <th>8283</th>\n",
              "      <td>10023</td>\n",
              "    </tr>\n",
              "    <tr>\n",
              "      <th>7965</th>\n",
              "      <td>9091</td>\n",
              "    </tr>\n",
              "    <tr>\n",
              "      <th>9084</th>\n",
              "      <td>7804</td>\n",
              "    </tr>\n",
              "    <tr>\n",
              "      <th>8052</th>\n",
              "      <td>4906</td>\n",
              "    </tr>\n",
              "    <tr>\n",
              "      <th>360</th>\n",
              "      <td>4383</td>\n",
              "    </tr>\n",
              "    <tr>\n",
              "      <th>8347</th>\n",
              "      <td>1</td>\n",
              "    </tr>\n",
              "  </tbody>\n",
              "</table>\n",
              "</div><br><label><b>dtype:</b> int64</label>"
            ]
          },
          "metadata": {},
          "execution_count": 12
        }
      ],
      "source": [
        "#your code here\n"
      ]
    },
    {
      "cell_type": "markdown",
      "metadata": {
        "id": "BMspTKGpPgB6"
      },
      "source": [
        "There seems to be problem with the quality of data, as we can notice the presence of `NaN`for half of our restaurant\n",
        "\n",
        "Do you have any idea why?\n"
      ]
    },
    {
      "cell_type": "markdown",
      "metadata": {
        "id": "BDHS1-IdGWOx"
      },
      "source": [
        "> **Your Answer Here (Double click)**\n",
        "The restaurant with the highest turnover may not be the same as the one with the most orders. Some restaurants might have fewer orders but higher average prices per order.\n"
      ]
    },
    {
      "cell_type": "markdown",
      "metadata": {
        "id": "BgdDGZAmGWOx"
      },
      "source": [
        "## Cleaning\n"
      ]
    },
    {
      "cell_type": "markdown",
      "metadata": {
        "id": "SF-JSLhhGWOx"
      },
      "source": [
        "Fill the 0 values in the `m_nb_customer` column with 1, then eliminate the rows where the `m_cached_price` is 0."
      ]
    },
    {
      "cell_type": "code",
      "execution_count": 13,
      "metadata": {
        "ExecuteTime": {
          "end_time": "2024-02-13T21:51:16.666496Z",
          "start_time": "2024-02-13T21:51:16.643379Z"
        },
        "id": "0Abq1T50PQjQ",
        "scrolled": true
      },
      "outputs": [],
      "source": [
        "#clean m_nb_customer column\n",
        "# Reemplazar 0 por 1 en la columna de número de clientes\n",
        "df_order['m_nb_customer'] = df_order['m_nb_customer'].replace(0, 1)\n"
      ]
    },
    {
      "cell_type": "code",
      "execution_count": 16,
      "metadata": {
        "ExecuteTime": {
          "end_time": "2024-02-13T21:51:01.175175Z",
          "start_time": "2024-02-13T21:51:01.132080Z"
        },
        "scrolled": true,
        "id": "3MLuGglmGWOx",
        "colab": {
          "base_uri": "https://localhost:8080/",
          "height": 429
        },
        "outputId": "b0985fd4-30dc-4443-dffd-44930822def7"
      },
      "outputs": [
        {
          "output_type": "execute_result",
          "data": {
            "text/plain": [
              "id_store\n",
              "7965    102.433918\n",
              "4337     43.334787\n",
              "8283     36.901100\n",
              "360      32.073823\n",
              "9084     30.570348\n",
              "6293     16.810087\n",
              "8052     16.722518\n",
              "4542     13.821061\n",
              "1796     11.832542\n",
              "8347     11.500000\n",
              "Name: price_per_customer, dtype: float64"
            ],
            "text/html": [
              "<div>\n",
              "<style scoped>\n",
              "    .dataframe tbody tr th:only-of-type {\n",
              "        vertical-align: middle;\n",
              "    }\n",
              "\n",
              "    .dataframe tbody tr th {\n",
              "        vertical-align: top;\n",
              "    }\n",
              "\n",
              "    .dataframe thead th {\n",
              "        text-align: right;\n",
              "    }\n",
              "</style>\n",
              "<table border=\"1\" class=\"dataframe\">\n",
              "  <thead>\n",
              "    <tr style=\"text-align: right;\">\n",
              "      <th></th>\n",
              "      <th>price_per_customer</th>\n",
              "    </tr>\n",
              "    <tr>\n",
              "      <th>id_store</th>\n",
              "      <th></th>\n",
              "    </tr>\n",
              "  </thead>\n",
              "  <tbody>\n",
              "    <tr>\n",
              "      <th>7965</th>\n",
              "      <td>102.433918</td>\n",
              "    </tr>\n",
              "    <tr>\n",
              "      <th>4337</th>\n",
              "      <td>43.334787</td>\n",
              "    </tr>\n",
              "    <tr>\n",
              "      <th>8283</th>\n",
              "      <td>36.901100</td>\n",
              "    </tr>\n",
              "    <tr>\n",
              "      <th>360</th>\n",
              "      <td>32.073823</td>\n",
              "    </tr>\n",
              "    <tr>\n",
              "      <th>9084</th>\n",
              "      <td>30.570348</td>\n",
              "    </tr>\n",
              "    <tr>\n",
              "      <th>6293</th>\n",
              "      <td>16.810087</td>\n",
              "    </tr>\n",
              "    <tr>\n",
              "      <th>8052</th>\n",
              "      <td>16.722518</td>\n",
              "    </tr>\n",
              "    <tr>\n",
              "      <th>4542</th>\n",
              "      <td>13.821061</td>\n",
              "    </tr>\n",
              "    <tr>\n",
              "      <th>1796</th>\n",
              "      <td>11.832542</td>\n",
              "    </tr>\n",
              "    <tr>\n",
              "      <th>8347</th>\n",
              "      <td>11.500000</td>\n",
              "    </tr>\n",
              "  </tbody>\n",
              "</table>\n",
              "</div><br><label><b>dtype:</b> float64</label>"
            ]
          },
          "metadata": {},
          "execution_count": 16
        }
      ],
      "source": [
        "#clean m_cached_price column\n",
        "# Eliminar pedidos con precio 0\n",
        "df_order = df_order[df_order['m_cached_price'] != 0]\n",
        "\n",
        "# Crear columna nueva: precio por cliente\n",
        "df_order['price_per_customer'] = df_order['m_cached_price'] / df_order['m_nb_customer']\n",
        "\n",
        "# Calcular el precio promedio por persona en cada restaurante\n",
        "df_order.groupby('id_store')['price_per_customer'].mean().sort_values(ascending=False)\n",
        "\n"
      ]
    },
    {
      "cell_type": "markdown",
      "metadata": {
        "id": "qYKGt6GlRQ_m"
      },
      "source": [
        "Recalculate the price_per_customer column and the average price spent by each person in each restaurant."
      ]
    },
    {
      "cell_type": "code",
      "execution_count": 18,
      "metadata": {
        "ExecuteTime": {
          "end_time": "2024-02-13T21:51:18.710366Z",
          "start_time": "2024-02-13T21:51:18.691243Z"
        },
        "id": "oLQY0R__OhkA"
      },
      "outputs": [],
      "source": [
        "#your code here\n",
        "# Convertir columnas de fecha a datetime\n",
        "df_order['date_opened'] = pd.to_datetime(df_order['date_opened'])\n",
        "df_order['date_closed'] = pd.to_datetime(df_order['date_closed'])\n"
      ]
    },
    {
      "cell_type": "markdown",
      "metadata": {
        "id": "rPpEDlRQR0dP"
      },
      "source": [
        "## Order duration analysis\n"
      ]
    },
    {
      "cell_type": "markdown",
      "metadata": {
        "id": "gtgNDxu-Sk04"
      },
      "source": [
        "Restaurant `7965` has a higher price per person than the rest.  \n",
        "Let's look at the time spent at the table to determine if it matches the characteristics of a fancy restaurant.\n",
        "\n",
        "\n"
      ]
    },
    {
      "cell_type": "markdown",
      "metadata": {
        "id": "0XiLTXG0S1zt"
      },
      "source": [
        "Convert the `date_opened` and `date_closed` columns to **datetime** format.\n"
      ]
    },
    {
      "cell_type": "code",
      "execution_count": 21,
      "metadata": {
        "ExecuteTime": {
          "end_time": "2024-02-13T21:51:20.582336Z",
          "start_time": "2024-02-13T21:51:20.555820Z"
        },
        "id": "vr_lHtn2SzXW",
        "colab": {
          "base_uri": "https://localhost:8080/"
        },
        "outputId": "dfcb0f76-ed2a-4cf8-b1cc-fe6a52aaf071"
      },
      "outputs": [
        {
          "output_type": "execute_result",
          "data": {
            "text/plain": [
              "np.float64(53.71511350716984)"
            ]
          },
          "metadata": {},
          "execution_count": 21
        }
      ],
      "source": [
        "#your code here\n",
        "\n",
        "# Calcular la duración del pedido en minutos\n",
        "df_order['order_duration_min'] = (df_order['date_closed'] - df_order['date_opened']).dt.total_seconds() / 60\n",
        "\n",
        "# Filtrar datos del restaurante 7965\n",
        "df_7965 = df_order[df_order['id_store'] == 7965]\n",
        "\n",
        "# Duración promedio de los pedidos en el restaurante 7965\n",
        "df_7965['order_duration_min'].mean()\n",
        "\n"
      ]
    },
    {
      "cell_type": "markdown",
      "metadata": {
        "id": "n9ZCQJscq-xI"
      },
      "source": [
        "Run the code below to calculate the time between the opening and closing date of an order in minutes."
      ]
    },
    {
      "cell_type": "code",
      "execution_count": 22,
      "metadata": {
        "ExecuteTime": {
          "end_time": "2024-02-13T21:51:23.187230Z",
          "start_time": "2024-02-13T21:51:23.167410Z"
        },
        "id": "0CpgxYX6ezsR"
      },
      "outputs": [],
      "source": [
        "df_order[\"order_duration\"] = (df_order.date_closed - df_order.date_opened).dt.total_seconds() / 60"
      ]
    },
    {
      "cell_type": "markdown",
      "metadata": {
        "id": "J7rOdfqHUa1W"
      },
      "source": [
        "Compute the average duration spent at each table for every restaurant."
      ]
    },
    {
      "cell_type": "code",
      "execution_count": 23,
      "metadata": {
        "ExecuteTime": {
          "end_time": "2024-02-13T21:52:28.766744Z",
          "start_time": "2024-02-13T21:52:28.734137Z"
        },
        "id": "cCj4sDxyq-xJ",
        "colab": {
          "base_uri": "https://localhost:8080/",
          "height": 429
        },
        "outputId": "2fea6791-88e3-4daa-974e-0ea27da8b962"
      },
      "outputs": [
        {
          "output_type": "execute_result",
          "data": {
            "text/plain": [
              "id_store\n",
              "8052    164.739022\n",
              "9084    103.050725\n",
              "360      96.262090\n",
              "7965     53.715114\n",
              "6293     30.252533\n",
              "4337      6.245097\n",
              "4542      3.930523\n",
              "8347      3.900000\n",
              "1796      3.399033\n",
              "8283      2.005228\n",
              "Name: order_duration_min, dtype: float64"
            ],
            "text/html": [
              "<div>\n",
              "<style scoped>\n",
              "    .dataframe tbody tr th:only-of-type {\n",
              "        vertical-align: middle;\n",
              "    }\n",
              "\n",
              "    .dataframe tbody tr th {\n",
              "        vertical-align: top;\n",
              "    }\n",
              "\n",
              "    .dataframe thead th {\n",
              "        text-align: right;\n",
              "    }\n",
              "</style>\n",
              "<table border=\"1\" class=\"dataframe\">\n",
              "  <thead>\n",
              "    <tr style=\"text-align: right;\">\n",
              "      <th></th>\n",
              "      <th>order_duration_min</th>\n",
              "    </tr>\n",
              "    <tr>\n",
              "      <th>id_store</th>\n",
              "      <th></th>\n",
              "    </tr>\n",
              "  </thead>\n",
              "  <tbody>\n",
              "    <tr>\n",
              "      <th>8052</th>\n",
              "      <td>164.739022</td>\n",
              "    </tr>\n",
              "    <tr>\n",
              "      <th>9084</th>\n",
              "      <td>103.050725</td>\n",
              "    </tr>\n",
              "    <tr>\n",
              "      <th>360</th>\n",
              "      <td>96.262090</td>\n",
              "    </tr>\n",
              "    <tr>\n",
              "      <th>7965</th>\n",
              "      <td>53.715114</td>\n",
              "    </tr>\n",
              "    <tr>\n",
              "      <th>6293</th>\n",
              "      <td>30.252533</td>\n",
              "    </tr>\n",
              "    <tr>\n",
              "      <th>4337</th>\n",
              "      <td>6.245097</td>\n",
              "    </tr>\n",
              "    <tr>\n",
              "      <th>4542</th>\n",
              "      <td>3.930523</td>\n",
              "    </tr>\n",
              "    <tr>\n",
              "      <th>8347</th>\n",
              "      <td>3.900000</td>\n",
              "    </tr>\n",
              "    <tr>\n",
              "      <th>1796</th>\n",
              "      <td>3.399033</td>\n",
              "    </tr>\n",
              "    <tr>\n",
              "      <th>8283</th>\n",
              "      <td>2.005228</td>\n",
              "    </tr>\n",
              "  </tbody>\n",
              "</table>\n",
              "</div><br><label><b>dtype:</b> float64</label>"
            ]
          },
          "metadata": {},
          "execution_count": 23
        }
      ],
      "source": [
        "#your code here\n",
        "\n",
        "# Duración promedio de pedido por restaurante (en minutos)\n",
        "avg_duration_by_restaurant = df_order.groupby('id_store')['order_duration_min'].mean().sort_values(ascending=False)\n",
        "\n",
        "# Mostrar los resultados\n",
        "avg_duration_by_restaurant\n",
        "\n"
      ]
    },
    {
      "cell_type": "markdown",
      "metadata": {
        "id": "82pz9YvrU1Rj"
      },
      "source": [
        "Certain restaurants exhibit notably brief average order times, indicating a potential presence of fast food establishments among them.\n"
      ]
    },
    {
      "cell_type": "markdown",
      "metadata": {
        "id": "vVyGwdcmWfgA"
      },
      "source": [
        "## Joins"
      ]
    },
    {
      "cell_type": "markdown",
      "metadata": {
        "ExecuteTime": {
          "end_time": "2021-12-05T16:57:15.668667Z",
          "start_time": "2021-12-05T16:57:15.666267Z"
        },
        "id": "6kN9eSVgq-xG"
      },
      "source": [
        "Download  [Tiller_order_line.csv](https://drive.google.com/file/d/1KSDFGLu2QAAR2C5SUlM5mfhINHU-LIuJ/view?usp=sharing) and [Tiller_store_data.csv](https://drive.google.com/file/d/1vQRlCYTAaikHMR3zTqy09r1QBNdZgraN/view?usp=sharing) and upload them in two DataFrame `df_line` and `df_store`.\n"
      ]
    },
    {
      "cell_type": "code",
      "execution_count": 27,
      "metadata": {
        "ExecuteTime": {
          "end_time": "2024-02-13T21:54:34.986852Z",
          "start_time": "2024-02-13T21:54:34.345807Z"
        },
        "id": "-LeTQt0lq-xG",
        "colab": {
          "base_uri": "https://localhost:8080/"
        },
        "outputId": "5ec37fbe-b175-4b04-92aa-083f5f02390a"
      },
      "outputs": [
        {
          "output_type": "execute_result",
          "data": {
            "text/plain": [
              "(   id_order_line   id_order             date_opended             date_created  \\\n",
              " 0      626609716  139058632  2020-08-25 17:27:14 UTC  2020-08-25 17:27:25 UTC   \n",
              " 1      403167240   94770355  2019-09-27 07:47:14 UTC  2019-09-27 07:47:18 UTC   \n",
              " 2      578564178  127794604  2020-06-12 11:07:09 UTC  2020-06-12 11:07:25 UTC   \n",
              " 3      329942564   77841193  2019-06-17 13:13:30 UTC  2019-06-17 13:13:43 UTC   \n",
              " 4      348375251   82283609  2019-07-12 20:14:51 UTC  2019-07-12 20:15:38 UTC   \n",
              " \n",
              "    m_quantity  m_unit_price  m_unit_price_exc_vat  m_total_price_inc_vat  \\\n",
              " 0         1.0         15.00             12.500000                  15.00   \n",
              " 1         1.0         25.90             21.583333                  25.90   \n",
              " 2         1.0          4.20              3.818182                   4.20   \n",
              " 3         1.0          2.20              2.085308                   2.20   \n",
              " 4         1.0         -5.16             -5.160000                  -5.16   \n",
              " \n",
              "    m_total_price_exc_vat  m_tax_percent  m_discount_amount  dim_type  \\\n",
              " 0              12.500000          0.200                0.0   PRODUCT   \n",
              " 1              21.583333          0.200                0.0   PRODUCT   \n",
              " 2               3.818182          0.100                0.0   PRODUCT   \n",
              " 3               2.085308          0.055                0.0   PRODUCT   \n",
              " 4              -5.160000          0.000                0.0  DISCOUNT   \n",
              " \n",
              "            dim_category                              dim_name dim_status  \\\n",
              " 0           VINS ROUGES  TWIST AGAIN 2018 VDF - YOANN ROMAGNE       DONE   \n",
              " 1  LIQUIDES 50ML AUTRES                            MOMMY CAKE       DONE   \n",
              " 2              Déjeuner                      FORMULE JUS 30CL       DONE   \n",
              " 3              BOISSONS                 EVIAN - BADOIT - COCA       DONE   \n",
              " 4               VARIOUS                              DISCOUNT       DONE   \n",
              " \n",
              "    m_nb_payed dim_feature_type dim_unit_measure dim_unit_measure_display  \n",
              " 0         0.0              NaN             UNIT                     UNIT  \n",
              " 1         0.0              NaN             UNIT                     UNIT  \n",
              " 2         0.0              NaN             UNIT                     UNIT  \n",
              " 3         0.0              NaN             UNIT                     UNIT  \n",
              " 4         0.0              NaN              NaN                      NaN  ,\n",
              "    id_store               date_created dim_zipcode dim_country dim_currency\n",
              " 0      2576  2016-07-12 16:15:31+00:00       34120          FR          EUR\n",
              " 1      2538  2016-07-07 16:35:44+00:00       47800          FR          EUR\n",
              " 2      2468  2016-06-30 12:44:25+00:00       06470          FR          EUR\n",
              " 3      2375  2016-06-21 12:52:36+00:00       76000          FR          EUR\n",
              " 4      2328  2016-06-16 13:59:52+00:00       75018          FR          EUR)"
            ]
          },
          "metadata": {},
          "execution_count": 27
        }
      ],
      "source": [
        "#your code here\n",
        "# Cargar archivos adicionales\n",
        "df_line = pd.read_csv('Tiller_order_line.csv')\n",
        "df_store = pd.read_csv('Tiller_store_data.csv')\n",
        "\n",
        "\n",
        "# Mostrar las primeras filas\n",
        "df_line.head(), df_store.head()\n"
      ]
    },
    {
      "cell_type": "markdown",
      "metadata": {
        "id": "1iQwsa6hq-xG"
      },
      "source": [
        "What new information do you have access to through this data?"
      ]
    },
    {
      "cell_type": "code",
      "execution_count": null,
      "metadata": {
        "ExecuteTime": {
          "end_time": "2024-02-13T21:54:56.444406Z",
          "start_time": "2024-02-13T21:54:56.413703Z"
        },
        "id": "BQb_6lpBq-xG"
      },
      "outputs": [],
      "source": [
        "#your code here\n",
        "\n"
      ]
    },
    {
      "cell_type": "markdown",
      "metadata": {
        "id": "dYEeRzsqq-xH"
      },
      "source": [
        "<details>\n",
        "    <summary> Answer 💡 </summary>\n",
        "\n",
        "- `Order line` = The different products in an order\n",
        "- `Store data` = Information about the restaurant/bar\n",
        "\n",
        "</details>\n"
      ]
    },
    {
      "cell_type": "markdown",
      "metadata": {
        "id": "OYsG4N6Lq-xH"
      },
      "source": [
        "Paris is divided into 20 districts. Each of them has a unique code 75001, 75002, ..., 75019, 75020. \\\n",
        "How many orders were placed in the `2nd district`?\n",
        "\n"
      ]
    },
    {
      "cell_type": "code",
      "execution_count": 28,
      "metadata": {
        "ExecuteTime": {
          "end_time": "2024-02-13T21:58:33.867365Z",
          "start_time": "2024-02-13T21:58:33.769220Z"
        },
        "id": "EQkdLlUMq-xH",
        "colab": {
          "base_uri": "https://localhost:8080/"
        },
        "outputId": "10cd299f-e8d7-480d-d5a6-298f45ad07e9"
      },
      "outputs": [
        {
          "output_type": "execute_result",
          "data": {
            "text/plain": [
              "0"
            ]
          },
          "metadata": {},
          "execution_count": 28
        }
      ],
      "source": [
        "#your code here\n",
        "\n",
        "df_order_full = pd.merge(df_order, df_store, on='id_store')\n",
        "\n",
        "\n",
        "# Contar los pedidos realizados en el distrito 2 de París\n",
        "orders_in_2nd_district = df_order_full[df_order_full['dim_zipcode'] == 75002]\n",
        "orders_in_2nd_district.shape[0]\n"
      ]
    },
    {
      "cell_type": "markdown",
      "metadata": {
        "id": "ADA46_E1YZe_"
      },
      "source": [
        "Let's have a look at restaurant `4542`, which shows a very brief average ordering time.\n",
        "\n",
        "\n",
        "Retrieve the most ordered items in this restaurant by retaining only the **id_store** and **id_order** columns from `df_order`, as well as the **id_order**, **id_order_line**, and **dim_name** columns from `order_line`.\n"
      ]
    },
    {
      "cell_type": "code",
      "execution_count": 29,
      "metadata": {
        "ExecuteTime": {
          "end_time": "2024-02-13T22:03:38.614018Z",
          "start_time": "2024-02-13T22:03:38.525366Z"
        },
        "id": "ggr_eaelq-xI",
        "colab": {
          "base_uri": "https://localhost:8080/",
          "height": 429
        },
        "outputId": "1f0339c7-853b-4235-f43e-875818911187"
      },
      "outputs": [
        {
          "output_type": "execute_result",
          "data": {
            "text/plain": [
              "dim_name\n",
              "divers                       34\n",
              "Chorizo « Ospital »          19\n",
              "Txirula « Ospital »          10\n",
              "Saucisson « Ospital »        10\n",
              "Boudin « Parra »              8\n",
              "Lodève                        7\n",
              "Confiture cerises noires      7\n",
              "Confiture A.Rozés             6\n",
              "Chorizo Cular « Ospital »     6\n",
              "Piment d’Espelette            5\n",
              "Name: count, dtype: int64"
            ],
            "text/html": [
              "<div>\n",
              "<style scoped>\n",
              "    .dataframe tbody tr th:only-of-type {\n",
              "        vertical-align: middle;\n",
              "    }\n",
              "\n",
              "    .dataframe tbody tr th {\n",
              "        vertical-align: top;\n",
              "    }\n",
              "\n",
              "    .dataframe thead th {\n",
              "        text-align: right;\n",
              "    }\n",
              "</style>\n",
              "<table border=\"1\" class=\"dataframe\">\n",
              "  <thead>\n",
              "    <tr style=\"text-align: right;\">\n",
              "      <th></th>\n",
              "      <th>count</th>\n",
              "    </tr>\n",
              "    <tr>\n",
              "      <th>dim_name</th>\n",
              "      <th></th>\n",
              "    </tr>\n",
              "  </thead>\n",
              "  <tbody>\n",
              "    <tr>\n",
              "      <th>divers</th>\n",
              "      <td>34</td>\n",
              "    </tr>\n",
              "    <tr>\n",
              "      <th>Chorizo « Ospital »</th>\n",
              "      <td>19</td>\n",
              "    </tr>\n",
              "    <tr>\n",
              "      <th>Txirula « Ospital »</th>\n",
              "      <td>10</td>\n",
              "    </tr>\n",
              "    <tr>\n",
              "      <th>Saucisson « Ospital »</th>\n",
              "      <td>10</td>\n",
              "    </tr>\n",
              "    <tr>\n",
              "      <th>Boudin « Parra »</th>\n",
              "      <td>8</td>\n",
              "    </tr>\n",
              "    <tr>\n",
              "      <th>Lodève</th>\n",
              "      <td>7</td>\n",
              "    </tr>\n",
              "    <tr>\n",
              "      <th>Confiture cerises noires</th>\n",
              "      <td>7</td>\n",
              "    </tr>\n",
              "    <tr>\n",
              "      <th>Confiture A.Rozés</th>\n",
              "      <td>6</td>\n",
              "    </tr>\n",
              "    <tr>\n",
              "      <th>Chorizo Cular « Ospital »</th>\n",
              "      <td>6</td>\n",
              "    </tr>\n",
              "    <tr>\n",
              "      <th>Piment d’Espelette</th>\n",
              "      <td>5</td>\n",
              "    </tr>\n",
              "  </tbody>\n",
              "</table>\n",
              "</div><br><label><b>dtype:</b> int64</label>"
            ]
          },
          "metadata": {},
          "execution_count": 29
        }
      ],
      "source": [
        "#your code here\n",
        "orders_4542 = df_order[df_order['id_store'] == 4542][['id_order', 'id_store']]\n",
        "\n",
        "# Unir con df_line usando 'id_order'\n",
        "orders_with_items_4542 = pd.merge(orders_4542, df_line[['id_order', 'id_order_line', 'dim_name']], on='id_order')\n",
        "\n",
        "orders_with_items_4542['dim_name'].value_counts().head(10)\n"
      ]
    },
    {
      "cell_type": "code",
      "source": [],
      "metadata": {
        "id": "D9a74VSWqskK"
      },
      "execution_count": null,
      "outputs": []
    }
  ],
  "metadata": {
    "colab": {
      "provenance": [],
      "include_colab_link": true
    },
    "kernelspec": {
      "display_name": "Python 3 (ipykernel)",
      "language": "python",
      "name": "python3"
    },
    "language_info": {
      "codemirror_mode": {
        "name": "ipython",
        "version": 3
      },
      "file_extension": ".py",
      "mimetype": "text/x-python",
      "name": "python",
      "nbconvert_exporter": "python",
      "pygments_lexer": "ipython3",
      "version": "3.10.6"
    },
    "toc": {
      "base_numbering": 1,
      "nav_menu": {},
      "number_sections": true,
      "sideBar": true,
      "skip_h1_title": false,
      "title_cell": "Table of Contents",
      "title_sidebar": "Contents",
      "toc_cell": false,
      "toc_position": {},
      "toc_section_display": true,
      "toc_window_display": false
    }
  },
  "nbformat": 4,
  "nbformat_minor": 0
}